{
 "cells": [
  {
   "cell_type": "markdown",
   "metadata": {},
   "source": [
    "***Introduction to portfolio construction and analysis with Python***\n",
    "\n",
    "[https://www.coursera.org/learn/introduction-portfolio-construction-python/](https://www.coursera.org/learn/introduction-portfolio-construction-python/)\n",
    "\n",
    "Compiled by *ruud waij*\n",
    "\n",
    "# Week 1 Section 1 - Fundamentals of risk and returns\n",
    "\n",
    "## Video: Fundamentals of returns"
   ]
  },
  {
   "cell_type": "markdown",
   "metadata": {},
   "source": [
    "### Compute the return\n",
    "The return $R$ (= fraction of profit) from time $t$ to time ${t+1}$ for price $P$ is given by:\n",
    "\n",
    "$$ R_{t,t+1} = \\frac{P_{t+1}-P_{t}}{P_{t}} = \\frac{P_{t+1}}{P_{t}} - 1 $$\n",
    "If dividends $D$ have been paid out at $t+1$, the formula above is for the *price return*. the *total return* is given by:\n",
    "$$ R_{t,t+1} = \\frac{P_{t+1}+D_{t,t+1}-P_{t}}{P_{t}} = \n",
    "\\frac{P_{t+1}+D_{t,t+1}}{P_{t}} - 1 $$"
   ]
  },
  {
   "cell_type": "markdown",
   "metadata": {},
   "source": [
    "### Multi period returns\n",
    "*Compounded returns*\n",
    "$$R_{t,t+2}= (1+R_{t,t+1})(1+R_{t+1,t+2})-1$$"
   ]
  },
  {
   "cell_type": "markdown",
   "metadata": {},
   "source": [
    "### Annualizing returns\n",
    "Annualizing a 1\\% per month return:\n",
    "$$((1+0.01)^{12}-1)$$"
   ]
  },
  {
   "cell_type": "markdown",
   "metadata": {},
   "source": [
    "## Video: Measures of risk and reward"
   ]
  },
  {
   "cell_type": "markdown",
   "metadata": {},
   "source": [
    "### Variance"
   ]
  },
  {
   "cell_type": "markdown",
   "metadata": {},
   "source": [
    "*Variance* is the average of the square of the deviations from the mean:\n",
    "$$ \\sigma^{2}_{R} = \\frac{1}{N} \\sum_{i=1}^N (R_i-\\bar{R})^2$$\n",
    "where $\\bar{R}$ is the arithmetic mean of the returns."
   ]
  },
  {
   "cell_type": "markdown",
   "metadata": {},
   "source": [
    "### Standard deviation\n",
    "*Standard deviation* is the square root of the variance:\n",
    "$$ \\sigma_{R} = \\sqrt{\\frac{1}{N} \\sum_{i=1}^N (R_i-\\bar{R})^2}$$"
   ]
  },
  {
   "cell_type": "markdown",
   "metadata": {},
   "source": [
    "### Annualizing volatility\n",
    "$$\\sigma_{ann}=\\sigma_p \\sqrt{p}$$\n",
    "where $p$ is the number of periods in a year, $\\sigma_p$ is the volatility per period and $\\sigma_{ann}$ is the annualized volatility."
   ]
  },
  {
   "cell_type": "markdown",
   "metadata": {},
   "source": [
    "### Why is variance proportional to time?\n",
    "I wondered why variance is proportional to time. Three answers:"
   ]
  },
  {
   "cell_type": "markdown",
   "metadata": {},
   "source": [
    "- [Why Is Volatility Proportional to the Square Root of Time?](https://www.macroption.com/why-is-volatility-proportional-to-square-root-of-time/)\n",
    "- [Why Variances Add](https://apcentral.collegeboard.org/courses/ap-statistics/classroom-resources/why-variances-add-and-why-it-matters)\n",
    "- [Why does the variance of the Random walk increase?](https://stats.stackexchange.com/questions/159650/why-does-the-variance-of-the-random-walk-increase)"
   ]
  },
  {
   "cell_type": "markdown",
   "metadata": {},
   "source": [
    "### Sharpe ratio\n",
    "The *Sharpe ratio* measures the return $R_p$ of a portfolio $P$  compared to the return $R_f$ of a risk-free asset, after adjusting for its risk (volatility $\\sigma_{p}$)."
   ]
  },
  {
   "cell_type": "markdown",
   "metadata": {},
   "source": [
    "$$\\mathit{Sharpe Ratio(P)} = \\frac{R_p-R_f}{\\sigma_{p}}$$"
   ]
  },
  {
   "cell_type": "markdown",
   "metadata": {},
   "source": [
    "## Video: Measuring max drawdown"
   ]
  },
  {
   "cell_type": "markdown",
   "metadata": {},
   "source": [
    "### Max drawdown\n",
    "The *Max Drawdown* is the maximum theoretical loss from the previous high to a subsequent low: the worst possible return you could have seen if you *bought high, sold low*."
   ]
  },
  {
   "cell_type": "markdown",
   "metadata": {},
   "source": [
    "[Investopedia](https://www.investopedia.com/terms/m/maximum-drawdown-mdd.asp \"Investopedia\"):\n",
    "\"A maximum drawdown (MDD) is the maximum observed loss from a peak to a trough of a portfolio, before a new peak is attained. Maximum drawdown is an indicator of downside risk over a specified time period.\"\n"
   ]
  },
  {
   "cell_type": "markdown",
   "metadata": {},
   "source": [
    "### Calmar ratio\n",
    "The *Calmar Ratio* is the ratio of the annualized return  over the trailing 36 months to the maximum drawdown over those trailing 36 months."
   ]
  },
  {
   "cell_type": "markdown",
   "metadata": {},
   "source": [
    "# Week 1 Section 2 - Beyond the Gaussian case: extreme risk estimates"
   ]
  },
  {
   "cell_type": "markdown",
   "metadata": {},
   "source": [
    "## Video: Deviations from normality"
   ]
  },
  {
   "cell_type": "markdown",
   "metadata": {},
   "source": [
    "### Skewness\n",
    "\n",
    "*Skewness* is a measure of asymmetry of the distribution. If distribution has a negative skewness, then the probability of getting an outcome below the mean is higher than the probability of an outcome above the mean. The opposite is true for a positively skewed distribution."
   ]
  },
  {
   "cell_type": "markdown",
   "metadata": {},
   "source": [
    "$$ S(R)= \\frac\n",
    "{E[R-E(R))^3]}\n",
    "{[Var(R)]^{\\frac{3}{2}}}=\n",
    "= \\frac{E[ (R-E(R))^3 ]}{\\sigma_R^3}\n",
    "$$"
   ]
  },
  {
   "cell_type": "markdown",
   "metadata": {},
   "source": [
    "### Kurtosis\n",
    "*Kurtosis* is a quantitative measure of the thickness of the fatness of the tail of in relation to that of the Gaussian distribution. The Gaussian distribution has a kurtosis of 3, if the value is higher it has a *fat tail* distribution.\n",
    "$$ K(R)= \\frac\n",
    "{E[R-E(R))^4]}\n",
    "{[Var(R)]^{2}}\n",
    "== \\frac{E[ (R-E(R))^4 ]}{\\sigma_R^4}\n",
    "$$"
   ]
  },
  {
   "cell_type": "markdown",
   "metadata": {},
   "source": [
    "### Jarque-Bera test\n",
    "\n",
    "There are many tests that tell if a distribution is normal and perhaps one of the most\n",
    "commonly used is called the [*Jarque-Bera*](https://en.wikipedia.org/wiki/Jarque%E2%80%93Bera_test) test.\n",
    "$$\\mathit{JB} = \\frac{n}{6} (S^2 + \\frac{(K-3)^2}{4})$$"
   ]
  },
  {
   "cell_type": "markdown",
   "metadata": {},
   "source": [
    "## Video: Downside risk measures"
   ]
  },
  {
   "cell_type": "markdown",
   "metadata": {},
   "source": [
    "### Semi-deviation\n",
    "*Semi-deviation* is the volatility of the sub-sample of below-average or below-zero returns.\n",
    "$$ \\sigma_{semi} = \\sqrt{\\frac{1}{N} \\sum_{R_t \\leq \\bar{R}} (R_t-\\bar{R})^2}$$\n",
    "$N$ is the number of returns that fall below the mean."
   ]
  },
  {
   "cell_type": "markdown",
   "metadata": {},
   "source": [
    "### VaR - Value at Risk\n",
    "*VaR* represents the maximum expected loss over a given time period at a specified confidence level. The loss is represented by a positive number. See also [Investopedia](https://www.investopedia.com/articles/04/092904.asp)."
   ]
  },
  {
   "cell_type": "markdown",
   "metadata": {},
   "source": [
    "### CVaR - Conditional VaR\n",
    "*CVaR* is the expected loss (as a positive number) beyond the VaR. See also [Investopedia](https://www.investopedia.com/terms/c/conditional_value_at_risk.asp).\n",
    "$$CVaR = -E(R|R\\leq -VaR)=\n",
    "\\frac\n",
    "{\\int_{-\\infty}^{VaR} x \\cdotp f_R(x)d(x)}\n",
    "{F_R(-VaR)}\n",
    "$$\n",
    "$f_R$ is the return density function and $F_R$ is the cumulative probability distribution. CVar is nothing more than the average of all those returns that are worse than the VaR. "
   ]
  },
  {
   "cell_type": "markdown",
   "metadata": {},
   "source": [
    "**Question:** Consider the following sequence of monthly returns on a portfolio: -4\\%, +5\\%, +2\\%, -7\\%, +1\\%, +0.5\\%, -2\\%, -1\\%, -2\\%, +5\\%. What is the 80\\% monthly CVaR for the portfolio?"
   ]
  },
  {
   "cell_type": "markdown",
   "metadata": {},
   "source": [
    "**Answer:** Out of 10 monthly returns, the worst outcome is -7\\% and the second worst outcome is -4\\%, so 8 out of 10 outcomes are better than -4\\%. The worst return after excluding the 20\\% worst return, that is after excluding the two worst return, is therefore -2\\%. VaR is typically expressed as a positive number so 2\\% is the 80\\% VaR. The CVaR is given by the average loss beyond the VaR, that is $ -(-7\\%-4\\%)/2=5.5\\% $."
   ]
  },
  {
   "cell_type": "markdown",
   "metadata": {},
   "source": [
    "## Video: Estimating VaR"
   ]
  },
  {
   "cell_type": "markdown",
   "metadata": {},
   "source": [
    "Four methods for calculating VaR."
   ]
  },
  {
   "cell_type": "markdown",
   "metadata": {},
   "source": [
    "### Method 1: Historical (non parametric)"
   ]
  },
  {
   "cell_type": "markdown",
   "metadata": {},
   "source": [
    "Calculation of VaR based on the distribution of historical changes in the value\n",
    "of the current portfolio under market prices over the specified historical observation window.\n"
   ]
  },
  {
   "cell_type": "markdown",
   "metadata": {},
   "source": [
    "### Method 2: Parametric Gaussian methodology\n",
    "Calculation of VaR based on portfolio volatility, i.e. on volatilities and correlations of components. You assume a Gaussian distribution and estimate its mean $\\mu$ and volatility $\\sigma$."
   ]
  },
  {
   "cell_type": "markdown",
   "metadata": {},
   "source": [
    "$$\\mathit{Pr}(R\\leq\\mu_p+z_\\alpha \\sigma_p)=\\alpha$$\n",
    "\n",
    "$Z_\\alpha$ is the one-sided $\\alpha$-[quantile](https://en.wikipedia.org/wiki/Quantile) of the [standard](https://en.wikipedia.org/wiki/Standard_score) normal distribution of the return, for example for $Z_\\alpha$=-1.65, the probability is ~5\\% to get below that $\\alpha$-value."
   ]
  },
  {
   "cell_type": "markdown",
   "metadata": {},
   "source": [
    "$$\\mathit{VaR}_\\alpha = -(\\mu + z_\\alpha \\sigma)$$"
   ]
  },
  {
   "cell_type": "markdown",
   "metadata": {},
   "source": [
    "**Question:** Consider a portfolio with a +.5\\% monthly expected return and 4\\% monthly volatility. What is the 95\\% monthly Gaussian VaR for the portfolio?"
   ]
  },
  {
   "cell_type": "markdown",
   "metadata": {},
   "source": [
    "**Answer:** $\\mathit{VaR} = -(.5\\%-1.65x4\\%) = 6.1\\%$. ($-6.1$ or less is the absolute value range that will occur in $5\\%$ of the cases for a normal distribution with $\\mu=0.5$ and $\\sigma=4$.)"
   ]
  },
  {
   "cell_type": "code",
   "execution_count": 1,
   "metadata": {},
   "outputs": [
    {
     "data": {
      "text/plain": [
       "<matplotlib.axes._subplots.AxesSubplot at 0x140aad62bc8>"
      ]
     },
     "execution_count": 1,
     "metadata": {},
     "output_type": "execute_result"
    },
    {
     "data": {
      "image/png": "[encoded data removed]",
      "text/plain": [
       "<Figure size 432x288 with 1 Axes>"
      ]
     },
     "metadata": {
      "needs_background": "light"
     },
     "output_type": "display_data"
    }
   ],
   "source": [
    "import warnings\n",
    "warnings.simplefilter(action='ignore', category=FutureWarning)\n",
    "\n",
    "%load_ext autoreload\n",
    "%autoreload 2\n",
    "%matplotlib inline\n",
    "\n",
    "import numpy as np                                                              \n",
    "import seaborn as sns\n",
    "import matplotlib as plt\n",
    "from scipy import stats      \n",
    "import matplotlib.pyplot as plt\n",
    "\n",
    "mu= 0.5\n",
    "sigma=4\n",
    "x5= -6.1\n",
    "\n",
    "extend= 3\n",
    "xx = np.arange(mu-extend*sigma, mu+extend*sigma, 0.1)                                                   \n",
    "yy = stats.norm.pdf(xx,loc=mu,scale=sigma)      \n",
    "delta=0.000000001\n",
    "xxx= xx[xx<= x5]\n",
    "yyy= yy[xx<= x5]\n",
    "\n",
    "plt.fill_between(xxx, yyy, alpha=0.1, color='blue')\n",
    "\n",
    "sns.lineplot(x=xx,y=yy).set_title('95% monthly Gaussian VaR=6.1 example')\n",
    "sns.lineplot(x= [mu,mu+delta], y= [0,yy.max()],markers='.')\n",
    "sns.lineplot(x= [x5,x5+delta], y= [0,stats.norm.pdf(x5,loc=mu,scale=sigma)])"
   ]
  },
  {
   "cell_type": "markdown",
   "metadata": {},
   "source": [
    "The Gaussian distribution has thin tails and may underestimate risk. It is not a good model for VaR."
   ]
  },
  {
   "cell_type": "markdown",
   "metadata": {},
   "source": [
    "#### Method 3: Parametric non-Gaussian VaR\n",
    "There are many parametric non-Gaussian distributions:"
   ]
  },
  {
   "cell_type": "markdown",
   "metadata": {},
   "source": [
    "- Define\n",
    "- Pareto\n",
    "- Student\n",
    "- Loggamma\n",
    "- Frechet"
   ]
  },
  {
   "cell_type": "markdown",
   "metadata": {},
   "source": [
    "### Method 4: Cornish-Fisher"
   ]
  },
  {
   "cell_type": "markdown",
   "metadata": {},
   "source": [
    "The *Cornish-Fisher expansion* is a semi-parametric approach for calculation\n",
    "of value at risk estimates in a non-Gaussian setting. Cornish-Fisher does\n",
    "not force you to assume any particular return distribution. \n"
   ]
  },
  {
   "cell_type": "markdown",
   "metadata": {},
   "source": [
    "$$\\tilde{z}_\\alpha=\n",
    "z_\\alpha +\n",
    "\\frac\n",
    "{1}\n",
    "{6}\n",
    "(z^{2}_\\alpha-1)S+\n",
    "\\frac\n",
    "{1}\n",
    "{24}\n",
    "(z^{3}_\\alpha-3z_\\alpha)(K-3)-\n",
    "\\frac\n",
    "{1}\n",
    "{36}\n",
    "(2z^{3}_\\alpha-5z_\\alpha)S^2\n",
    "$$"
   ]
  },
  {
   "cell_type": "markdown",
   "metadata": {},
   "source": [
    "$$ \\mathit{VaR}_{mod}(1-\\alpha)=-(\\mu+\\tilde{z}_\\alpha \\sigma) $$"
   ]
  },
  {
   "cell_type": "markdown",
   "metadata": {},
   "source": [
    "- $\\tilde{z}_a$: alpha quantile of the non-Gaussian distribution.\n",
    "- $z_a$: alpha quantile of the Gaussian distribution\n",
    "- $S$: skewness\n",
    "- $K-3$: excess kurtosis"
   ]
  },
  {
   "cell_type": "markdown",
   "metadata": {},
   "source": [
    "# Week 2 Section 1 - Introduction to optimization and the efficient frontier"
   ]
  },
  {
   "cell_type": "markdown",
   "metadata": {},
   "source": [
    "## Video: The only free lunch in finance"
   ]
  },
  {
   "cell_type": "markdown",
   "metadata": {},
   "source": [
    "### 2-asset combinations"
   ]
  },
  {
   "cell_type": "markdown",
   "metadata": {},
   "source": [
    "$$ \\sigma^2 (w_{a},w_{b})=\n",
    "\\sigma_{A}^2w_{A}^2+\n",
    "\\sigma_{B}^2w_{B}^2+\n",
    "2w_A w_B \\sigma_A \\sigma_B \\rho_{AB}\n",
    "$$"
   ]
  },
  {
   "cell_type": "markdown",
   "metadata": {},
   "source": [
    "- $w_a$: weight of asset A\n",
    "- $\\sigma_a$: volatility of asset A\n",
    "- $\\rho_{A,B}$= correlation coefficient of $A$ and $B$"
   ]
  },
  {
   "cell_type": "code",
   "execution_count": 7,
   "metadata": {},
   "outputs": [
    {
     "data": {
      "text/plain": [
       "<matplotlib.axes._subplots.AxesSubplot at 0x211f31beac8>"
      ]
     },
     "execution_count": 7,
     "metadata": {},
     "output_type": "execute_result"
    },
    {
     "data": {
      "image/png": "[encoded data removed]",
      "text/plain": [
       "<Figure size 720x432 with 1 Axes>"
      ]
     },
     "metadata": {
      "needs_background": "light"
     },
     "output_type": "display_data"
    }
   ],
   "source": [
    "import pandas as pd          \n",
    "import edhec_risk_kit as erk\n",
    "\n",
    "er= pd.Series([2.0,1.0]) # expected return\n",
    "cov= pd.DataFrame({0:[2,1],1:[1,2]}) # covariance\n",
    "erk.plot_ef2(21, er, cov, style='.-',figsize=(10,6))"
   ]
  },
  {
   "cell_type": "markdown",
   "metadata": {},
   "source": [
    "## Video: Markowitz optimization and the efficient frontier\n",
    "### The efficient frontier\n",
    "The *efficient frontier* represents: The portfolios that offer the lowest volatility for a given level of return. They also represent the portfolio of highest expected return for a given level of volatility."
   ]
  },
  {
   "cell_type": "markdown",
   "metadata": {},
   "source": [
    "---\n",
    "## Video: Applying quadprog to draw the efficient frontier\n",
    "\n",
    "---\n",
    "The efficient frontier is simply the space of\n",
    "portfolios that we would want to hold\n",
    "because there is no way\n",
    "of getting a higher return for the same level of\n",
    "volatility or for you to get\n",
    "a portfolio with equivalent return, but lower volatility.\n"
   ]
  },
  {
   "cell_type": "markdown",
   "metadata": {},
   "source": [
    "### Convex optimization to draw the efficient frontier\n",
    "The return of the portfolio $R_p$ is the weighted $w_i$ sum of the returns $R_i$ of the assets in the portfolio.\n",
    "$$R_p= \\sum_{i=1}^{k}w_iR_i$$\n",
    "The expression for the *portfolio variance* $\\sigma^2$ is a generalization of the formula we've already seen in the 2-asset case:\n",
    "$$\\sigma_{p}^2=\\sum_{i=1}^k \\sum_{j=1}^k w_i w_j \\sigma_i \\sigma_j \\rho_{ij}$$\n",
    "$$\\mathit{Covariance}(i,j)=\\sigma_{ij}=\\sigma_i \\sigma_j \\rho_{ij}$$\n",
    "$$\\sigma_{p}^2=\\sum_{i=1}^k \\sum_{j=1}^k w_i w_j \\sigma_{ij}$$"
   ]
  },
  {
   "cell_type": "markdown",
   "metadata": {},
   "source": [
    "### Matrix form expression for the portfolio return"
   ]
  },
  {
   "cell_type": "markdown",
   "metadata": {},
   "source": [
    "$$R_p = w^T R$$"
   ]
  },
  {
   "cell_type": "markdown",
   "metadata": {},
   "source": [
    "- $w$ is the $k*1$ vector of weights\n",
    "- $R$ is the $k*1$ vector of asset returns"
   ]
  },
  {
   "cell_type": "markdown",
   "metadata": {},
   "source": [
    "### The covariance matrix\n",
    "The *covariance matrix* $\\Sigma$ (not to be confused with sum $\\sum_{lo}^{hi}$) is a symmetric square $k*k$ matrix where the $i$ and $j$ element is $\\sigma_ij$, the covariance between $i$ and $j$, which is $\\sigma_i \\sigma_j \\rho_{ij}$. Each diagonal element of $\\Sigma$ is $\\sigma_{ii}= \\sigma_i \\sigma_i \\rho_{ii}$.\n",
    "&nbsp;\n",
    "\n",
    "$$\\sigma_{p}^2 = w^T \\Sigma w$$"
   ]
  },
  {
   "cell_type": "markdown",
   "metadata": {},
   "source": [
    "### Plotting the efficient frontier\n",
    "A portfolio is on the efficient frontier if it is the one that has the minimum volatility $R_p=w^T\\Sigma w$ for a certain level of return. Minimize $\\frac{1}{2}w^T\\Sigma w$ in a *quadratic optimizer* with the following constraints:"
   ]
  },
  {
   "cell_type": "markdown",
   "metadata": {},
   "source": [
    "- the portfolio return must be at the desired level\n",
    "- all asset weights have to be $\\geq 0$\n",
    "- the asset weights add up to one"
   ]
  },
  {
   "cell_type": "markdown",
   "metadata": {},
   "source": [
    "# Week 2 Section 2 - Implementing Markowitz\n",
    "## Video: Fund separation theorem and the capital market line"
   ]
  },
  {
   "cell_type": "markdown",
   "metadata": {},
   "source": [
    "### Capital market line (CML)\n",
    "The efficient frontier dramatically changes\n",
    "shape when a risk-free asset is\n",
    "introduced."
   ]
  },
  {
   "cell_type": "code",
   "execution_count": 8,
   "metadata": {},
   "outputs": [
    {
     "data": {
      "text/plain": [
       "[<matplotlib.lines.Line2D at 0x211f30594c8>]"
      ]
     },
     "execution_count": 8,
     "metadata": {},
     "output_type": "execute_result"
    },
    {
     "data": {
      "image/png": "[encoded data removed]",
      "text/plain": [
       "<Figure size 720x432 with 1 Axes>"
      ]
     },
     "metadata": {
      "needs_background": "light"
     },
     "output_type": "display_data"
    }
   ],
   "source": [
    "import pandas as pd          \n",
    "import edhec_risk_kit as erk\n",
    "\n",
    "er= pd.Series([0.2,0.1]) # expected return\n",
    "cov= pd.DataFrame({0:[2,-1.5],1:[-1.5,2]}) # covariance\n",
    "erk.plot_ef2(21, er, cov, style='.-',figsize=(10,6))\n",
    "plt.plot([0, 1], [0.12, 0.191])"
   ]
  },
  {
   "cell_type": "markdown",
   "metadata": {},
   "source": [
    "The *maximum Sharpe ratio portfolio* (MSR) is at the point where the orange line that starts at the *risk-free rate* (here generously set at 12%) touches the efficient frontier. The slope of the orange line is the Sharpe ratio of the portfolio."
   ]
  },
  {
   "cell_type": "markdown",
   "metadata": {},
   "source": [
    "The MSR portfolio contains no exposure to [specific risk](https://www.investopedia.com/terms/s/specificrisk.asp). This type of risk is unrewarded because it can be diversified away."
   ]
  },
  {
   "cell_type": "markdown",
   "metadata": {},
   "source": [
    "The *tangency portfolio* is the portfolio that maximizes the Sharpe ratio."
   ]
  },
  {
   "cell_type": "markdown",
   "metadata": {},
   "source": [
    "$$\\mathit{SR}_p=\n",
    "\\frac\n",
    "{\\mu_p-r_f}\n",
    "{\\sigma_p}=\n",
    "\\frac\n",
    "{\\sum_{i=1}^Nw_i \\mu_i - r_f}\n",
    "{\\sqrt{\\sum_{i,j=1}^N w_i w_j \\sigma_{ij}}}\n",
    "$$"
   ]
  },
  {
   "cell_type": "markdown",
   "metadata": {},
   "source": [
    "- $\\mathit{SR}_p$: Sharpe ratio\n",
    "- $\\mu_p$: portfolio return\n",
    "- $r_f$: risk-free rate\n",
    "- $\\sigma_p$: portfolio volatility\n",
    "- $w_i$: individual asset weights\n",
    "- $\\mu_i$: expected return per asset\n",
    "- $\\sigma_{ij}$: covariance of return of assets $i,j$"
   ]
  },
  {
   "cell_type": "markdown",
   "metadata": {},
   "source": [
    "## Video: Lack of robustness of Markowitz analysis\n",
    "\n",
    "### Parameter uncertainty\n",
    "It is difficult to estimate model parameters in portfolio optimization, especially the one for expected return."
   ]
  },
  {
   "cell_type": "markdown",
   "metadata": {},
   "source": [
    "### Global minimum variance (GMV) portfolio\n",
    "The *GMV* is the portfolio that is least sensitive to errors in parameter estimates. Since it requires no expected return estimates, it is only sensitive to errors in risk parameter estimates. The asset weights of the maximum Sharpe ratio portfolio vary a lot if the expected returns of the assets change."
   ]
  },
  {
   "cell_type": "code",
   "execution_count": 9,
   "metadata": {},
   "outputs": [
    {
     "data": {
      "text/plain": [
       "Text(0.5, 1.0, 'global minimum variance portfolio')"
      ]
     },
     "execution_count": 9,
     "metadata": {},
     "output_type": "execute_result"
    },
    {
     "data": {
      "image/png": "[encoded data removed]",
      "text/plain": [
       "<Figure size 360x216 with 1 Axes>"
      ]
     },
     "metadata": {
      "needs_background": "light"
     },
     "output_type": "display_data"
    }
   ],
   "source": [
    "import pandas as pd          \n",
    "import edhec_risk_kit as erk\n",
    "\n",
    "er= pd.Series([2,1]) # expected return\n",
    "cov= pd.DataFrame({0:[2,1],1:[1,2]}) # covariance\n",
    "erk.plot_ef2(11, er, cov, style='.-',figsize=(5,3))\n",
    "plt.plot([1.224744871391589],[1.5],marker='o')\n",
    "plt.title('global minimum variance portfolio')"
   ]
  },
  {
   "cell_type": "markdown",
   "metadata": {},
   "source": [
    "The *equal weight* portfolio is the naive diversification portfolio. "
   ]
  },
  {
   "cell_type": "markdown",
   "metadata": {},
   "source": [
    "# Week 3 Section 1 -\n",
    "\n",
    "## Video: Limits of diversification"
   ]
  },
  {
   "cell_type": "markdown",
   "metadata": {},
   "source": [
    "Diversification allows you to most efficiently harvest\n",
    "the highest possible reward\n",
    "per unit of risk, by eliminating unrewarded risks.\n",
    "diversification cannot\n",
    "help you deal with systematic risk: \n",
    "the risk factor that\n",
    "impacts all the assets simultaneously.\n",
    "\n",
    "### Hedging\n",
    "*Hedging* (i.e. avoiding risk taking) is the only effective way to obtain downside protection. Hedging is symmetric, you get protection for downside risk, but give up on possible returns."
   ]
  },
  {
   "cell_type": "markdown",
   "metadata": {},
   "source": [
    "### Hedging versus insurance\n",
    "*Insurance* provides downside protection while allowing for upside potential. Insurance is *dynamic hedging*."
   ]
  },
  {
   "cell_type": "markdown",
   "metadata": {},
   "source": [
    "## Video: An introduction to CPPI - Part 1\n",
    "\n",
    "### CPPI"
   ]
  },
  {
   "cell_type": "markdown",
   "metadata": {},
   "source": [
    "*CPPI=Constant Proportion Portfolio Insurance* is a procedure that dynamically allocates total assets to a risky asset and a safe asset."
   ]
  },
  {
   "cell_type": "markdown",
   "metadata": {},
   "source": [
    "![CPPI image](images/CPPI.png)"
   ]
  },
  {
   "cell_type": "markdown",
   "metadata": {},
   "source": [
    "I explain the diagram in a different way than the Coursera/EDHEC video does:"
   ]
  },
  {
   "cell_type": "markdown",
   "metadata": {},
   "source": [
    "- $T$ is the total amount of assets that you have\n",
    "- Protection Floor $F$ is the level of assets that you want to protect against downside risk\n",
    "- The difference between total assets $T$ and the desired protection floor $F$ is called *cushion* $C=T-F$\n",
    "- The amount of risky asset $E$ you take on is $E=M*C$, where $M$ is a (yet undetermined) multiplier\n",
    "- The rest is put in a riskless asset $B=T-E$"
   ]
  },
  {
   "cell_type": "markdown",
   "metadata": {},
   "source": [
    "If the risky asset $E$ loses value, the cushion $C$ becomes smaller and the risky asset must be replaced with riskless asset. $E=M*C$  must hold. If the cushion becomes zero, only riskless asset remains."
   ]
  },
  {
   "cell_type": "markdown",
   "metadata": {},
   "source": [
    "**Example:**"
   ]
  },
  {
   "cell_type": "markdown",
   "metadata": {},
   "source": [
    "- $M=3$\n",
    "- $F=80\\%$\n",
    "- $T=100 \\$$"
   ]
  },
  {
   "cell_type": "markdown",
   "metadata": {},
   "source": [
    "What is the value of $E$? $C=T-F=100-80=20$. The initial investment in risky asset $E$ is $E=M*C=3*20=60$."
   ]
  },
  {
   "cell_type": "markdown",
   "metadata": {},
   "source": [
    "### Downside protection\n",
    "[*Gap risk*](http://www.deltaquants.com/Introduction-to-risks-in-CPPI-products) occurs if you do not trade continuously. If you trade intermittently, the value of your assets may fall below the *protection floor* inbetween trading sessions. Gap risk materializes *if and only if* the loss on the risky portfolio $E$ relative to the the safe portfolio $B$ exceeds $1/M$ within the trading interval."
   ]
  },
  {
   "cell_type": "markdown",
   "metadata": {},
   "source": [
    "**Question:** Assume a drop of 20% of the risky asset. Which multiplier value would lead to a violation of the floor. "
   ]
  },
  {
   "cell_type": "markdown",
   "metadata": {},
   "source": [
    "**Answer:** $\\Delta E=0.2 \\quad \\Delta E> 1/M \\Longrightarrow M>5$"
   ]
  },
  {
   "cell_type": "markdown",
   "metadata": {},
   "source": [
    "## Video: An introduction to CPPI - Part 2\n",
    "\n",
    "### Introducing maximum drawdown constraints\n",
    "Maximum drawdown constraint: $V_t > \\alpha M_t$ where:"
   ]
  },
  {
   "cell_type": "markdown",
   "metadata": {},
   "source": [
    "- $V_t$ is the value of the portfolio at time $t$\n",
    "- $M_t$ is the maxium value of the portfolio between time $0$ and $t$ (a running max process)\n",
    "- $1-\\alpha$ is the maximum acceptable drawdown\n",
    "The maximum allowable drawdown is a percentage of the highest reached portfolio value."
   ]
  },
  {
   "cell_type": "markdown",
   "metadata": {},
   "source": [
    "**Question:** Consider the following sequence of portfolio value over time: P(0)=100, P(1)=110, P(2)=105, P(3)=108, P(4)=111. What is the value M(3) of the max process at date t=3?"
   ]
  },
  {
   "cell_type": "markdown",
   "metadata": {},
   "source": [
    "**Answer:** 110, it is the value of the running max process at dates 1, 2 and 3, before it turns 111 at date 4.  "
   ]
  },
  {
   "cell_type": "markdown",
   "metadata": {},
   "source": [
    "### CPPI with performance cap\n",
    "The return is also capped at the top.\n",
    "&nbsp;\n",
    "\n",
    "Protect downside:\n",
    "$$F_t \\leq A_t \\leq T_t \\Rightarrow E_t = m(A_t-F_t)$$\n",
    "Protect upside:\n",
    "$$T_t\\leq A_t \\leq C_t \\Rightarrow E_t=m(C_t-A_t)$$"
   ]
  },
  {
   "cell_type": "markdown",
   "metadata": {},
   "source": [
    "- $F$: floor (a minimum amount of wealth to protect)\n",
    "- $C$: cap (a maximum (!) amount of wealth to protect)\n",
    "- $A$: asset value\n",
    "- $E$: the amount of risky asset that you take on\n",
    "- $m$: CPPI multiplier\n",
    "- $T$: threshold level where downside protection switches to upside protection, determined by $F$ and $C$."
   ]
  },
  {
   "cell_type": "markdown",
   "metadata": {},
   "source": [
    "**Question:**\n",
    "What is the initial allocation to the risky asset for a portfolio starting at \\$100, with a multiplier equal to 4, a wealth preservation floor set at 90\\% and a cap set at 105\\%? \n",
    "\n",
    "**Answer:**\n",
    "$A=100\\quad M=4\\quad F=90\\%\\quad C=105\\%$\n",
    "The portfolio initial value is closer to the cap than it is to the floor. In this case, the investment in risky asset is $4*(105\\%-100\\%)=20\\%$."
   ]
  },
  {
   "cell_type": "markdown",
   "metadata": {},
   "source": [
    "Threshold level of the asset value $A=T$ where downside proection switches to upside protection is determined by:\n",
    "$$m(T_t-F_t)=m(C_t-T_t) \\rightarrow T_t = \\frac{F_t+C_t}{2}$$\n",
    "\n",
    "**Question:** Consider a portfolio starting at \\$100, with a multiplier equal to 4, a wealth preservation floor set at 90\\% and a cap set at 105\\%. What is the threshold value beyond which the allocation to risky asset is computed with respect to the cap, and not to the floor?"
   ]
  },
  {
   "cell_type": "markdown",
   "metadata": {},
   "source": [
    "**Answer:**\n",
    "$A=100\\quad M=4\\quad F=90\\%\\quad C=105\\%$\n",
    "\n",
    "$T= \\frac{100+95}{2}=97.5\\%$"
   ]
  },
  {
   "cell_type": "markdown",
   "metadata": {},
   "source": [
    "## Video: Simulating asset returns with random walks\n",
    "\n",
    "### A stochastic model for asset returns\n",
    "There are two assets:"
   ]
  },
  {
   "cell_type": "markdown",
   "metadata": {},
   "source": [
    "- $S_t$: a risky asset\n",
    "- $B_t$: a riskfree asset"
   ]
  },
  {
   "cell_type": "markdown",
   "metadata": {},
   "source": [
    "Return process modelled as \n",
    "$$\\frac{dS_t}{S_t} = (r+\\sigma \\lambda)dt +\\sigma dW_t $$\n",
    "where $r+\\sigma \\lambda=\\mu$.\n",
    "$$\\frac{dB_t}{B_t}=rdt \\Leftrightarrow B_t=B_0e^{rt}$$"
   ]
  },
  {
   "cell_type": "markdown",
   "metadata": {},
   "source": [
    "- $dS_t$ is the return: the change in value of the stock index between time $t$ and time $t+dt$\n",
    "- $\\frac{dS_t}{S_t}$: the return as a fraction of the asset value\n",
    "- the return consists of two components:\n",
    "    - $(r+\\sigma \\lambda)$: the return trend, the expected return\n",
    "    - $\\sigma dW_t$: the stocastic component\n",
    "- the expected return $\\mu$ consists of two components:\n",
    "    - $r$: the riskfree rate\n",
    "    - $\\sigma \\lambda$ is the risk premium: the volatility $\\sigma$ times the Sharpe ratio $\\lambda$.\n",
    "- $dt$ is the period over which we calculate the return; for one month $dt=\\frac{1}{12}$ if the expected return has been calculated per year.\n",
    "- $\\sigma dW_t$ the stocastic component: volatility $\\sigma$ times $dW_t$, the *Brownian motion* process.\n",
    "- $\\frac{dB_t}{B_t}=rdt$: is the return fraction of the riskfree asset. It is the riskfree rate $r$ times the period $dt$.\n",
    "- $B_0:$ the value of $B$ at time zero(?)."
   ]
  },
  {
   "cell_type": "markdown",
   "metadata": {},
   "source": [
    "**Question:** Assume that a stock index has a Sharpe ratio of 0.5 and a volatility of 20%? If the risk-free rate is 2%, what is the drift of the stock index return process?"
   ]
  },
  {
   "cell_type": "markdown",
   "metadata": {},
   "source": [
    "**Answer:** $\\lambda=0.5$, $\\sigma=0.2$ and $r=0.02$. $\\frac{dS_t}{S_t}=0.02+0.2*0.5=0.12$"
   ]
  },
  {
   "cell_type": "markdown",
   "metadata": {},
   "source": [
    "### Brownian motion: a discrete time formulation"
   ]
  },
  {
   "cell_type": "markdown",
   "metadata": {},
   "source": [
    "The standard Brownian motion process is equivalent to a *random walk in continuous-time*."
   ]
  },
  {
   "cell_type": "markdown",
   "metadata": {},
   "source": [
    "$$\\frac{S_{t+dt}-S_t}{S_t} =\n",
    "(r+\\sigma \\lambda)dt+ \\sigma \\sqrt{dt}\\xi_t$$"
   ]
  },
  {
   "cell_type": "markdown",
   "metadata": {},
   "source": [
    "- $\\frac{S_{t+dt}-S_t}{S_t}= \\frac{dS_t}{S_t}$: the fractional change of return.\n",
    "- $(r+\\sigma \\lambda)dt$ is the expected return \n",
    "  - $r$ riskfree rate\n",
    "  - $\\sigma$ volatility\n",
    "  - $\\lambda$ Sharpe ratio\n",
    "- $\\sigma \\sqrt{dt}\\xi_t$ the contribution of the Brownian motion to the return\n",
    "- $\\xi_t$ is the normally distributed Brownian motion noise with mean zero and unit variance."
   ]
  },
  {
   "cell_type": "markdown",
   "metadata": {},
   "source": [
    "$$E_t[\\frac{dS_t}{S_t}]=\\mu dt \\Rightarrow \n",
    "\\frac{E_t[\\frac{dS_t}{S_t}]}{dt}=\\mu$$"
   ]
  },
  {
   "cell_type": "markdown",
   "metadata": {},
   "source": [
    "$$\\mathit{Var}_t[\\frac{dS_t}{S_t}]=\\sigma^2dt \\Rightarrow\n",
    "\\frac{\\mathit{Var}_t[\\frac{dS_t}{S_t}]}{dt}=\\sigma^2$$"
   ]
  },
  {
   "cell_type": "markdown",
   "metadata": {},
   "source": [
    "- $\\mu$: annualized expected return\n",
    "- $\\sigma^2$: annualized variance"
   ]
  },
  {
   "cell_type": "markdown",
   "metadata": {},
   "source": [
    "### Brownian motion\n",
    "*Brownian motion* follows a normal distribution with zero mean and variance $dt$. At any moment its value is equally likely to go up and go down."
   ]
  },
  {
   "cell_type": "markdown",
   "metadata": {},
   "source": [
    "**Question:** If you estimate volatility of a portfolio return to be 2% over the monthly horizon, what would be your estimate for annual volatility?"
   ]
  },
  {
   "cell_type": "markdown",
   "metadata": {},
   "source": [
    "**Answer:** The annualized variance $\\mathit{Var}$ is $12$ times the monthly variance $2^2$. The annualized volatility $\\sigma= \\sqrt{\\mathit{Var}}= \\sqrt{12*2^2}=6.9\\%$"
   ]
  },
  {
   "cell_type": "markdown",
   "metadata": {},
   "source": [
    "# Week 3 Section 2 -\n",
    "\n",
    "## Video: Monte Carlo simulation\n",
    "\n",
    "### A model with a stochastic opportunity set\n",
    "All elements of the equation below depend on time. For example, the riskfree rate is not a constant but is a stochastic process that can change over time: $r_t$."
   ]
  },
  {
   "cell_type": "markdown",
   "metadata": {},
   "source": [
    "$$\\frac{dS_t}{S_t} = (r_t+ \\sqrt{V_t} \\lambda^S_t)dt +\\sqrt{V_t} dW^S_t $$"
   ]
  },
  {
   "cell_type": "markdown",
   "metadata": {},
   "source": [
    "- $\\frac{dS_t}{S_t}$: the return as a fraction of the asset value\n",
    "- $r_t$: the time dependent riskfree rate\n",
    "- $\\sqrt{V_t}=\\sigma_t$: the estimate of the time dependent volatility (sqrt of variance $V_t$).\n",
    "- $\\lambda^S_t$: the estimate of the time dependent Sharpe ratio\n",
    "- $\\sqrt{V_t} dW^S_t$ the stocastic component: volatility $\\sigma_t=\\sqrt{V_t}$ times $dW^S_t$. The time dependent *Brownian motion* process is represented by $dW^S_t$."
   ]
  },
  {
   "cell_type": "markdown",
   "metadata": {},
   "source": [
    "The change in riskfree rate $dr_t$ and volatility $dV_t$ are modeled as stochastic processes.\n",
    "\n",
    "$$dr_t=a(b-r_t)dt+\\sigma_r dW^r_t$$"
   ]
  },
  {
   "cell_type": "markdown",
   "metadata": {},
   "source": [
    "- $a$: the speed of reversion to the mean: the (constant) speed at which the riskfree rate changes and drives the riskfree rate $r_t$ back to the mean.\n",
    "- $b$: the mean of the riskfree rate\n",
    "- $r_t$: the current value of the riskfree rate\n",
    "- $dt$: the time period"
   ]
  },
  {
   "cell_type": "markdown",
   "metadata": {},
   "source": [
    "If the current value of the riskfree rate $r_t$ is lower than the average rate $b$, the change in riskfree rate will be positive. The riskfree rate will revert back to the mean with the speed of mean reversion $a$."
   ]
  },
  {
   "cell_type": "markdown",
   "metadata": {},
   "source": [
    "These processes are called *mean reverting processes*."
   ]
  },
  {
   "cell_type": "markdown",
   "metadata": {},
   "source": [
    "The Variance $V_t$ can be modelled in a similar way. Since the variance is $\\sigma^2$, it cannot be negative. Because a square root cannot be negative either, the component that contains volatility is written as $\\sigma_V\\sqrt{V_t}$. (Since $\\sigma_V\\sqrt{V_t}$ equals $V_t$, why not simply write $V_t$?)"
   ]
  },
  {
   "cell_type": "markdown",
   "metadata": {},
   "source": [
    "$$dV_t=\\alpha(\\bar{V}-V_t)dt+\\sigma_V\\sqrt{V_t}dW^V_t$$"
   ]
  },
  {
   "cell_type": "markdown",
   "metadata": {},
   "source": [
    "- $dV_t$: the change in variance\n",
    "- $\\alpha$: the mean reverting speed of $V_t$\n",
    "- $\\bar{V}$: the mean of the variance\n",
    "- $V_t$: the current value of the variance\n",
    "- $\\sigma_V \\sqrt{V_t}dW^r_t$: the Brownian motion ($\\geq 0$) for changes in variance"
   ]
  },
  {
   "cell_type": "markdown",
   "metadata": {},
   "source": [
    "**Question:** Assuming a mean-reverting model for interest rates with long-term mean level equal to $2\\%$. If the current level of interest rate is $3\\%$ and if the speed of mean reversion is $0.5$, what is the average annual expected change in interest rate?"
   ]
  },
  {
   "cell_type": "markdown",
   "metadata": {},
   "source": [
    "**Answer:** $dr_t=a(b-r_t)dt$ with $b=0.02$, $r_t=0.03$, $a=0.5$, $dt=1$ $\\Rightarrow 0.5*(0.02-0.03)= -0.5\\%$"
   ]
  },
  {
   "cell_type": "markdown",
   "metadata": {},
   "source": [
    "Take a look at the Wikipedia page about [Geometric Brownian Motion](https://en.wikipedia.org/wiki/Geometric_Brownian_motion)."
   ]
  },
  {
   "cell_type": "markdown",
   "metadata": {},
   "source": [
    "## Video: Analyzing CPPI strategies\n",
    "This is a demonstration of how CPPI parameters affect outcome."
   ]
  },
  {
   "cell_type": "markdown",
   "metadata": {},
   "source": [
    "## Video: Designing and calibrating CPPI strategies"
   ]
  },
  {
   "cell_type": "markdown",
   "metadata": {},
   "source": [
    "This is also a demonstration of how CPPI parameters affect outcome."
   ]
  },
  {
   "cell_type": "markdown",
   "metadata": {},
   "source": [
    "# Week 4 Section 1 -\n",
    "## Video: From Asset Management to Asset-Liability Management"
   ]
  },
  {
   "cell_type": "markdown",
   "metadata": {},
   "source": [
    "### Funding ratio\n",
    "In [asset-liability management](https://www.investopedia.com/terms/a/asset-liabilitymanagement.asp) we measure the ratio between asset values and [liability values](https://www.investopedia.com/articles/investing/041213/examples-assetliability-management.asp)."
   ]
  },
  {
   "cell_type": "markdown",
   "metadata": {},
   "source": [
    "*Funding ratio* measures the assets relative to the liabilities. If it is equal to 100%, it means that assets are sufficient to cover liabilities."
   ]
  },
  {
   "cell_type": "markdown",
   "metadata": {},
   "source": [
    "$$F_t= \\frac{A_t}{L_t}$$"
   ]
  },
  {
   "cell_type": "markdown",
   "metadata": {},
   "source": [
    "- $F_t$: funding ratio\n",
    "- $A_t$: asset values\n",
    "- $L_t$: liability values"
   ]
  },
  {
   "cell_type": "markdown",
   "metadata": {},
   "source": [
    "### Surplus"
   ]
  },
  {
   "cell_type": "markdown",
   "metadata": {},
   "source": [
    "The *surplus* $S_t$ is the difference between assets $A_t$ and liability values $L_t$."
   ]
  },
  {
   "cell_type": "markdown",
   "metadata": {},
   "source": [
    "$$S_t=A_t-L_t$$"
   ]
  },
  {
   "cell_type": "markdown",
   "metadata": {},
   "source": [
    "**Question:** Consider a pension fund that has a 50%-50% stock/bond allocation. Assume that equity markets go down by 5%, bond markets go down by 10%, and further assume that the liability value goes down by 8%. Is the funding ratio of the pension plan increasing or decreasing? "
   ]
  },
  {
   "cell_type": "markdown",
   "metadata": {},
   "source": [
    "**Answer:** Change in return: $(0.5*-5\\%+0.5*-10\\%) = -7.5\\%$. Change in liability value: $-8\\%$. The funding ratio increases."
   ]
  },
  {
   "cell_type": "markdown",
   "metadata": {},
   "source": [
    "## Video: Lab Session - Present Values, liabilities and funding ratio\n",
    "This lab session video introduces some equations.\n",
    "\n",
    "### The present value of future liabilities\n",
    "We need the present value of future liabilities to compute the funding ratio (see [Funding ratio](#Funding-ratio)).\n",
    "\n",
    "In order to compute the present value, we need to discount the amount of the liability based on the relevant interest rate derived from the yield curve. For simplicity, we'll assume that the yield curve is flat, and so the interest rate is the same for all horizons. The present value of a set of liabilities $L$ is given by:"
   ]
  },
  {
   "cell_type": "markdown",
   "metadata": {},
   "source": [
    "$$ PV(L) = \\sum_{i=1}^{k} B(t_i) L_i$$"
   ]
  },
  {
   "cell_type": "markdown",
   "metadata": {},
   "source": [
    "- $\\mathit{PV}(L)$: present value of a set of liabilities $L$\n",
    "- $k$: the number of liabilities\n",
    "- $B(t_i)$: the price of a [pure discount bond](https://www.nasdaq.com/glossary/p/pure-discount-bond) that pays 1 dollar at time $t_i$\n",
    "- $L_i$: liability that is due at time $t_i$"
   ]
  },
  {
   "cell_type": "markdown",
   "metadata": {},
   "source": [
    "If we assume the yield curve is flat and the annual rate of interest is $r$ then $B(t)$ is given by"
   ]
  },
  {
   "cell_type": "markdown",
   "metadata": {},
   "source": [
    "$$B(t) = \\frac{1}{(1+r)^t}$$"
   ]
  },
  {
   "cell_type": "markdown",
   "metadata": {},
   "source": [
    "This means that after $t$ years the bond (that now costs $B_t$) will pay $1$ dollar:"
   ]
  },
  {
   "cell_type": "markdown",
   "metadata": {},
   "source": [
    "$$B(t)(1+r)^t = 1$$"
   ]
  },
  {
   "cell_type": "markdown",
   "metadata": {},
   "source": [
    "## Video: Liability hedging portfolios"
   ]
  },
  {
   "cell_type": "markdown",
   "metadata": {},
   "source": [
    "### Hedging = cash-flow matching\n",
    "*Liability-hedging portfolios (LHP)* or *Goal-hedging portfolios (GHP)* are portfolios with payoffs (cash-flows) matching the date and nominal amount of liability/goal payments."
   ]
  },
  {
   "cell_type": "markdown",
   "metadata": {},
   "source": [
    "Standard [bonds](https://www.investopedia.com/terms/b/bond.asp) are not suited for retirement pay outs, because the value is payed out in one lump sum. "
   ]
  },
  {
   "cell_type": "markdown",
   "metadata": {},
   "source": [
    "**Question:** What is the safe liability-hedging asset for an investor that has a liability defined as a single inflation-indexed payment to be made in 10 years from now?"
   ]
  },
  {
   "cell_type": "markdown",
   "metadata": {},
   "source": [
    "- 3 month [T-Bills](https://www.investopedia.com/terms/t/treasurybill.asp)?\n",
    "- 10 year [T-Bond](https://www.investopedia.com/terms/t/treasurybond.asp)?\n",
    "- [Inflation-linked](https://www.investopedia.com/articles/bonds/09/inflation-linked-bonds.asp) [pure discount](https://www.investopedia.com/terms/p/pure_discount_instrument.asp) (zero coupon) bond with a 10 year duration"
   ]
  },
  {
   "cell_type": "markdown",
   "metadata": {},
   "source": [
    "**Answer:**"
   ]
  },
  {
   "cell_type": "markdown",
   "metadata": {},
   "source": [
    "- *T-bills*: This should not be selected. If interest rates go down, the value of short-term bonds will increase moderately, while the value of the long-dated liabilities will increase significantly. \n",
    "\n",
    "- *T-bond*: This should not be selected. The duration of a coupon-paying 10 year bond will be strictly lower than 10. As a result, the bond value will increase less than the liabilities in case of a decrease in interest rates. Besides, the 10-year T-Bond offers no protection with respect to increases in inflation. \n",
    "\n",
    "- *Inflation linked bond*: Correct. For this investor, the liability-hedging portfolio is a 10Y inflation-linked pure discount bond."
   ]
  },
  {
   "cell_type": "markdown",
   "metadata": {},
   "source": [
    "### Factor exposure matching\n",
    "We would like bonds with payouts that match our liability payments. That would give perfect cash-flow matching.  This is not practical and we can use *factor exposure matching* instead."
   ]
  },
  {
   "cell_type": "markdown",
   "metadata": {},
   "source": [
    "**Question:** What is the safe liability-hedging asset for a 45Y old investor preparing for retirement at age 65."
   ]
  },
  {
   "cell_type": "markdown",
   "metadata": {},
   "source": [
    "- 3 month T-Bills? \n",
    "- 20-year inflation-linked pure discount bond?\n",
    "- Deferred inflation-linked annuity with a 20 years deferral period?"
   ]
  },
  {
   "cell_type": "markdown",
   "metadata": {},
   "source": [
    "**Answer:**"
   ]
  },
  {
   "cell_type": "markdown",
   "metadata": {},
   "source": [
    "- *3 month T-Bills:* This should not be selected \n",
    "If interest rates go down, the value of short-term bonds will increase moderately, while the value of the long-dated liabilities, given by replacement income, will increase significantly.\n",
    "\n",
    "- *20-year inflation-linked pure discount bond:* This should not be selected \n",
    "The 20-year pure discount bond will pay a cash-flow when the investor reaches retirement at age 65, but the investor needs to receive replacement income cash-flows throughout retirement, not at retirement date.  \n",
    "\n",
    "- *Deferred inflation-linked annuity with a 20 years deferral period?:* A deferred inflation-linked annuity with a 20 year deferral period will start paying cash flows when the investor reaches age 65, and will pay replacement income cash-flow as long as the investor is alive. This make it the perfect safe retirement asset. "
   ]
  },
  {
   "cell_type": "markdown",
   "metadata": {},
   "source": [
    "These questions cannot be answered using the information learned in the lectures!"
   ]
  },
  {
   "cell_type": "markdown",
   "metadata": {},
   "source": [
    "## Video: Lab Session-CIR Model and cash vs ZC bonds\n",
    "### CIR Model\n",
    "The Cox Ingersoll Ross Model (CIR) is used to simulate changes in interest rate. It is a mean reverting model."
   ]
  },
  {
   "cell_type": "markdown",
   "metadata": {},
   "source": [
    "$$ dr_{t}=a(b-r_{t})\\,dt+\\sigma {\\sqrt  {r_{t}}}\\,dW_{t} $$"
   ]
  },
  {
   "cell_type": "markdown",
   "metadata": {},
   "source": [
    "- $dr_t$: small change in interest rate\n",
    "- $a$: the speed of reversion to the mean\n",
    "- $b$: long term mean of the interest rate\n",
    "- $r_t$: current interest rate \n",
    "- $d_t$: a small amount of time\n",
    "- $\\sigma {\\sqrt  {r_{t}}}\\,dW_{t}$: random component\n",
    "  - $\\sigma$: the volatility, which acts as a scaling factor\n",
    "  - $\\sqrt{r_t}$: prevents negative interest rates\n",
    "  - $dW_t$: a random normally distributed number ('the shock')"
   ]
  },
  {
   "cell_type": "markdown",
   "metadata": {},
   "source": [
    "### Short rate\n",
    "The *short rate* is the instantaneous interest rate that you get for a very small amount of time. To annualize this rate, we need to [compound](https://www.investopedia.com/terms/c/compoundinterest.asp) it."
   ]
  },
  {
   "cell_type": "markdown",
   "metadata": {},
   "source": [
    "If we compound every $1/N$ part of a year we get:"
   ]
  },
  {
   "cell_type": "markdown",
   "metadata": {},
   "source": [
    "$$(1+\\frac{r}{N})^N$$"
   ]
  },
  {
   "cell_type": "markdown",
   "metadata": {},
   "source": [
    "As $N \\rightarrow \\infty$ we get the generalization:"
   ]
  },
  {
   "cell_type": "markdown",
   "metadata": {},
   "source": [
    "$$ 1+r_{annual} = e^{r_{inst}}$$\n",
    "$$ r_{annual} = e^{r_{inst}} -1 $$\n",
    "$$ r_{inst} = {ln}(1+r_{annual})$$"
   ]
  },
  {
   "cell_type": "markdown",
   "metadata": {},
   "source": [
    "- $r_{annual}$: annualized interest rate\n",
    "- $r_{inst}$: instantaneous (or short) rate\n",
    "- $e^{r_{inst}}$: $e$ to the power of the short rate"
   ]
  },
  {
   "cell_type": "markdown",
   "metadata": {},
   "source": [
    "### Generating the random price evolution of a Zero-Coupon Bond\n",
    "\n",
    "(This has been copied from anaconda notebooks_and_codem01_v02/nb/lab_125.ipynb)\n",
    "\n",
    "The CIR model can also be used to generate the movement of bond prices for a zero coupon bond that are implied by the generated interest rate, using the following equations:"
   ]
  },
  {
   "cell_type": "markdown",
   "metadata": {},
   "source": [
    "$$P(t,T)=A(t,T)e^{-B(t,T)r_{t}}\\!$$\n",
    "\n",
    "where"
   ]
  },
  {
   "cell_type": "markdown",
   "metadata": {},
   "source": [
    "$$ A(t,T)=\\left({\\frac  {2h e^{(a+h)\\tau/2}}{2h+(a+h)(e^{\\tau h}-1)}}\\right)^{{2ab/\\sigma ^{2}}} $$"
   ]
  },
  {
   "cell_type": "markdown",
   "metadata": {},
   "source": [
    "and"
   ]
  },
  {
   "cell_type": "markdown",
   "metadata": {},
   "source": [
    "$$ B(t,T)={\\frac  {2(e^{\\tau h}-1)}{2h+(a+h)(e^{\\tau h}-1)}} $$"
   ]
  },
  {
   "cell_type": "markdown",
   "metadata": {},
   "source": [
    "and"
   ]
  },
  {
   "cell_type": "markdown",
   "metadata": {},
   "source": [
    "$$ h={\\sqrt  {a^{2}+2\\sigma ^{2}}} $$"
   ]
  },
  {
   "cell_type": "markdown",
   "metadata": {},
   "source": [
    "and"
   ]
  },
  {
   "cell_type": "markdown",
   "metadata": {},
   "source": [
    "$$ \\tau = T-t $$"
   ]
  },
  {
   "cell_type": "markdown",
   "metadata": {},
   "source": [
    "- $P(t,T)$: price at time $t$ of a bond that matures at time $T$"
   ]
  },
  {
   "cell_type": "markdown",
   "metadata": {},
   "source": [
    "So this is the evolution in price of a zero-coupon bond, as interest rates go up, the price of the bond comes down. As interest rates falls, the price of the bond goes up."
   ]
  },
  {
   "cell_type": "markdown",
   "metadata": {},
   "source": [
    "## Video: Liability-driven investing (LDI)\n",
    "### Greed and Fear\n",
    "- Performance generation through optimal exposure to rewarded risk factors\n",
    "- Hedging against unexpected shocks\n",
    "\n",
    "*Performance-seeking portfolio (PSP)*: focus on diversified efficient access to risk premia.\n",
    "\n",
    "*Liability-hedging portfolio (LHP)*: focus on hedging impact of risk factors in liabilities."
   ]
  },
  {
   "cell_type": "markdown",
   "metadata": {},
   "source": [
    "### Formal LDI model"
   ]
  },
  {
   "cell_type": "markdown",
   "metadata": {},
   "source": [
    "$$\\mathit{max_w} {E[u(\\frac{A_T}{L_T})]} \\Rightarrow w^{*} = \\frac{\\lambda_{PSP}}{\\gamma \\sigma_{PSP}}w^{PSP} + \\beta_{L,LHP}(1-\\frac{1}{\\gamma})w^{LHP}$$"
   ]
  },
  {
   "cell_type": "markdown",
   "metadata": {},
   "source": [
    "- $\\lambda_{PSP}$: the PSP Sharpe ratio: $\\lambda=0 \\Rightarrow$ no investment in PSP.\n",
    "- $\\beta_{LHP}$: the beta (interest rate??)  of liabilities for LHP: $\\beta=0 \\Rightarrow$ no investment in LHP.\n",
    "- $\\sigma_{PSP}$ is the PSP volatility: $\\sigma=\\infty \\Rightarrow$ no investment in PSP.\n",
    "- $\\gamma$ is the risk aversion: $\\gamma=\\infty \\Rightarrow$ no investment in PSP."
   ]
  },
  {
   "cell_type": "markdown",
   "metadata": {},
   "source": [
    "**Question:** Assume that the best liability-hedging portfolio a pension fund can find has a zero correlation with the liabilities and a 50% Sharpe ratio, and that the highest Sharpe ratio available has a Sharpe ratio of 100%, what should be in this case the optimal allocation to the liability hedging portfolio? "
   ]
  },
  {
   "cell_type": "markdown",
   "metadata": {},
   "source": [
    "- 0%\n",
    "- 50%\n",
    "- 100%"
   ]
  },
  {
   "cell_type": "markdown",
   "metadata": {},
   "source": [
    "**Answer:**"
   ]
  },
  {
   "cell_type": "markdown",
   "metadata": {},
   "source": [
    "- *0%:* Correct \n",
    "If the liability-hedging portfolio has no hedging ability, then the pension fund should not hold any of this portfolio since hedging liabilities was the only reason why this portfolio was useful in the first place. \n",
    "- *50%:* This should not be selected. \n",
    "If the liability-hedging portfolio has no hedging ability, then the pension fund should not hold any of this portfolio since hedging liabilities was the only reason why this portfolio was useful in the first place. \n",
    "- *100%:* This should not be selected. \n",
    "100% would be in this case the allocation to the performance-seeking portfolio under the simplifying assumption that cash is not used."
   ]
  },
  {
   "cell_type": "markdown",
   "metadata": {},
   "source": [
    "## Video: Lab Session-Liability driven investing\n",
    "### Macaulay duration\n",
    "The [Macaulay duration](https://www.investopedia.com/terms/m/macaulayduration.asp) is the weighted average term to maturity of the cash flows from a bond. The weight of each cash flow is determined by dividing the *present* value of the cash flow by the price. Macaulay duration is frequently used by portfolio managers who use an immunization strategy."
   ]
  },
  {
   "cell_type": "markdown",
   "metadata": {},
   "source": [
    "$$ \\mathit{Macaulay\\, duration} = \\frac{\\sum_{t=1}^{n}(\\frac{t\\times C}{(1+y)^t} +\\frac{n\\times M}{(1+y)^n} }{\\mathit{Current\\, bond\\, price}}$$"
   ]
  },
  {
   "cell_type": "markdown",
   "metadata": {},
   "source": [
    "- $t$: respective time period\n",
    "- $C$: periodic coupon payment\n",
    "- $y$: periodic yield\n",
    "- $n$: total number of periods\n",
    "- $M$: maturity value\n",
    "- $\\mathit{Current\\, bond\\, price}$: present value of cash flows"
   ]
  },
  {
   "cell_type": "markdown",
   "metadata": {},
   "source": [
    "# Week 4 Section 2 -\n",
    "## Video: Choosing the policy portfolio\n",
    "### Optimal asset mix\n",
    "\n",
    "What is the optimal asset mix for liability driven investment ([liability driven investment](#Video:-Lab-Session-Liability-driven-investing)) \n",
    "when investing in the two building blocks PSP and LHP ([PSP and LHP](#Greed-and-Fear))?"
   ]
  },
  {
   "cell_type": "markdown",
   "metadata": {},
   "source": [
    "The risk aversion parameter $\\gamma$ is the fraction of allocation to LHP/PSP.\n",
    "\n",
    "In practice, the allocation to PSP is increased until the risk budget is exhausted. The risk budget is set by the stakeholders."
   ]
  },
  {
   "cell_type": "markdown",
   "metadata": {},
   "source": [
    "### Conflicts\n",
    "There is a conflict between short-term and long-term perspectives. For the long term perspective you want to reach your funding ratio. For the short perspective you want to look at the volatility and the max drawdown ([max drawdown](#Max-drawdown))."
   ]
  },
  {
   "cell_type": "markdown",
   "metadata": {},
   "source": [
    "If the risk budget is small, there will not be much upside potential. This requires a large investment to meet the liability."
   ]
  },
  {
   "cell_type": "markdown",
   "metadata": {},
   "source": [
    "### Solving the dilemma\n",
    "- Hide the problem\n",
    "  - Use a higher discount rate\n",
    "  - use a higher risk premia value\n",
    "- Attempt to solve the problem\n",
    "  - Request a higher contribution\n",
    "  - Request a higher risk budget\n",
    "  - Improve the performance seeking portfolio (PSP)"
   ]
  },
  {
   "cell_type": "markdown",
   "metadata": {},
   "source": [
    "**Question:** What impact do you expect on the shape of the distribution of the final funding ratio when increasing the allocation to performance-seeking assets?"
   ]
  },
  {
   "cell_type": "markdown",
   "metadata": {},
   "source": [
    "- A decrease in the median value and a decrease in the dispersion of the funding ratio distribution.\n",
    "- An increase in the median value and a decrease in the dispersion of the funding ratio distribution.\n",
    "- A decrease in the median value and an increase in the dispersion of the funding ratio distribution.\n",
    "- An increase in the median value and an increase in the dispersion of the funding ratio distribution."
   ]
  },
  {
   "cell_type": "markdown",
   "metadata": {},
   "source": [
    "**Answer:** Increasing the allocation to risk assets increases expected performance and also increases risk. "
   ]
  },
  {
   "cell_type": "markdown",
   "metadata": {},
   "source": [
    "**Question:**\n",
    "At a meeting of the board of trustees of a pension fund, it is decided that the acceptable volatility of the funding ratio is increased from 8% to 10? What consequence should follow?"
   ]
  },
  {
   "cell_type": "markdown",
   "metadata": {},
   "source": [
    "- An increase in the allocation to the PSP?\n",
    "- A 10% increase in funding ratio?\n",
    "- A 10% decrease in funding ratio?\n",
    "- An increase in the allocation to the LHP?"
   ]
  },
  {
   "cell_type": "markdown",
   "metadata": {},
   "source": [
    "**Answer:** An increase in the allocation to the PSP. Increasing the risk budget allows investors to take on more risk. "
   ]
  },
  {
   "cell_type": "markdown",
   "metadata": {},
   "source": [
    "## Video: Beyond LDI\n",
    "### Fund separation theorem\n",
    "The LDI paradigm ([LDI](#Video:-Liability-driven-investing-(LDI))) uses two building blocks as described by the [Fund separation theory](https://en.wikipedia.org/wiki/Mutual_fund_separation_theorem) for performance seeking and liability hedging."
   ]
  },
  {
   "cell_type": "markdown",
   "metadata": {},
   "source": [
    "### Fund interaction 'theorem'\n",
    "The Fund interaction 'theorem' tries to combine a high funding ratio with a low level of uncertainty. This maximizes investor welfare.\n",
    "Investor welfare consists of:\n",
    "- pure performance contribution (high sharpe ratio)\n",
    "- pure hedging contribution (meeting the liability)\n",
    "- cross-contribution performance/hedging (maximizing the correlation between PSP and the liabilities)"
   ]
  },
  {
   "cell_type": "markdown",
   "metadata": {},
   "source": [
    "**Question:** What is the contribution of the performance-seeking portfolio to investor welfare if risk-aversion is infinite?"
   ]
  },
  {
   "cell_type": "markdown",
   "metadata": {},
   "source": [
    "- 0%\n",
    "- 100%\n",
    "- We need to know what is the Sharpe ratio of the PSP to answer this question?"
   ]
  },
  {
   "cell_type": "markdown",
   "metadata": {},
   "source": [
    "**Answer:** An investor with infinite risk-aversion would optimally hold 0% of the PSP even if the PSP has an attractive Sharpe ratio. As a result the PSP will not contribute to the welfare of this investor. "
   ]
  },
  {
   "cell_type": "markdown",
   "metadata": {},
   "source": [
    "### Fund separation/interaction in practice"
   ]
  },
  {
   "cell_type": "markdown",
   "metadata": {},
   "source": [
    "Improve liability friendliness of PSP $\\rightarrow$ \n",
    "- one can allocate more money to PSP for the same risk budget.\n",
    "- a lower performance may be generated by PSP."
   ]
  },
  {
   "cell_type": "markdown",
   "metadata": {},
   "source": [
    "**Question:** Would the adoption of a more defensive equity benchmark lead to:"
   ]
  },
  {
   "cell_type": "markdown",
   "metadata": {},
   "source": [
    "- An increase in investor welfare?\n",
    "- A decrease in investor welfare?\n",
    "- An impact on investor welfare that can be positive or negative depending on parameter values? "
   ]
  },
  {
   "cell_type": "markdown",
   "metadata": {},
   "source": [
    "**Answer:** Adopting a more defensive equity benchmark would lead to a decrease in funding ratio volatility, which in turns would allow for an increase in equity allocation for the same risk budget, but it would also lead to a decrease in performance. The impact on investor welfare will be negative if the decrease in performance will more than compensate for the increase in equity exposure.  in performance. The impact on investor welfare will be positive if the increase in equity exposure will more than compensate for the decrease in performance.  "
   ]
  },
  {
   "cell_type": "markdown",
   "metadata": {},
   "source": [
    "## Video: Liability-friendly equity portfolios\n",
    "### Liability friendliness\n",
    "- cash-flow matching focus: choose stocks with high and stable dividends\n",
    "- factor matching focus: choose stocks that may have a low tracking error with respect to the liabilities: low volatility stocks\n",
    "- isovariance portfolios: fill the risk budget upto the the allowed level with low volatility stocks."
   ]
  }
 ],
 "metadata": {
  "kernelspec": {
   "display_name": "Python 3",
   "language": "python",
   "name": "python3"
  },
  "language_info": {
   "codemirror_mode": {
    "name": "ipython",
    "version": 3
   },
   "file_extension": ".py",
   "mimetype": "text/x-python",
   "name": "python",
   "nbconvert_exporter": "python",
   "pygments_lexer": "ipython3",
   "version": "3.7.6"
  }
 },
 "nbformat": 4,
 "nbformat_minor": 4
}
